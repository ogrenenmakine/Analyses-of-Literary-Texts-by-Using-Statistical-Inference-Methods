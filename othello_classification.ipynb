{
 "cells": [
  {
   "cell_type": "code",
   "execution_count": 1,
   "metadata": {},
   "outputs": [],
   "source": [
    "# Run in terminal or command prompt\n",
    "# python3 -m spacy download en\n",
    "\n",
    "import numpy as np\n",
    "import pandas as pd\n",
    "import re, nltk, spacy, gensim\n",
    "import glob, os\n",
    "\n",
    "# nltk\n",
    "from nltk.tokenize import RegexpTokenizer\n",
    "from nltk.stem.porter import PorterStemmer\n",
    "\n",
    "# Sklearn\n",
    "from sklearn.decomposition import LatentDirichletAllocation, TruncatedSVD\n",
    "from sklearn.feature_extraction.text import CountVectorizer, TfidfVectorizer\n",
    "from sklearn.model_selection import GridSearchCV\n",
    "from pprint import pprint\n",
    "\n",
    "# Plotting tools\n",
    "import pyLDAvis\n",
    "import pyLDAvis.sklearn\n",
    "import matplotlib.pyplot as plt\n",
    "%matplotlib inline"
   ]
  },
  {
   "cell_type": "code",
   "execution_count": 2,
   "metadata": {},
   "outputs": [],
   "source": [
    "with open('stopwords.txt', 'r') as f:\n",
    "    en_stop = f.readlines()\n",
    "en_stop = [w.replace('\\n', '') for w in en_stop]"
   ]
  },
  {
   "cell_type": "code",
   "execution_count": 3,
   "metadata": {},
   "outputs": [],
   "source": [
    "data = []\n",
    "doc_name = []\n",
    "for file in glob.glob(\"data/Othello/*.txt\"):\n",
    "    f = open(file, \"r\")\n",
    "    text = f.read()\n",
    "    data.append(text)\n",
    "    name = file.split('/')[2].split('.txt')[0]\n",
    "    doc_name.append(name)"
   ]
  },
  {
   "cell_type": "code",
   "execution_count": 4,
   "metadata": {},
   "outputs": [],
   "source": [
    "# Remove new line characters\n",
    "data = [re.sub('\\n', ' ', sent) for sent in data]\n",
    "\n",
    "# Remove distracting single quotes\n",
    "data = [re.sub(\"\\'\", \"\", sent) for sent in data]"
   ]
  },
  {
   "cell_type": "code",
   "execution_count": 5,
   "metadata": {},
   "outputs": [],
   "source": [
    "def sent_to_words(sentences):\n",
    "    for sentence in sentences:\n",
    "        yield(gensim.utils.simple_preprocess(str(sentence), deacc=True))  # deacc=True removes punctuations\n",
    "\n",
    "data_words = list(sent_to_words(data))"
   ]
  },
  {
   "cell_type": "code",
   "execution_count": 6,
   "metadata": {},
   "outputs": [],
   "source": [
    "p_stemmer = PorterStemmer()\n",
    "\n",
    "# list for tokenized documents in loop\n",
    "texts = []\n",
    "\n",
    "# loop through document list\n",
    "for tokens in data_words:\n",
    "    # remove stop words from tokens\n",
    "    stopped_tokens = [i for i in tokens if not i in en_stop]\n",
    "\n",
    "    # add tokens to list\n",
    "    texts.append(stopped_tokens)"
   ]
  },
  {
   "cell_type": "code",
   "execution_count": 7,
   "metadata": {},
   "outputs": [],
   "source": [
    "def lemmatization(texts, allowed_postags=['NOUN', 'ADJ', 'VERB', 'ADV']):\n",
    "    \"\"\"https://spacy.io/api/annotation\"\"\"\n",
    "    texts_out = []\n",
    "    for sent in texts:\n",
    "        doc = nlp(\" \".join(sent)) \n",
    "        texts_out.append(\" \".join([token.lemma_ if token.lemma_ not in ['-PRON-'] else '' for token in doc if token.pos_ in allowed_postags]))\n",
    "    return texts_out\n",
    "\n",
    "# Initialize spacy 'en' model, keeping only tagger component (for efficiency)\n",
    "# Run in terminal: python3 -m spacy download en\n",
    "nlp = spacy.load('en', disable=['parser', 'ner'])\n",
    "\n",
    "# Do lemmatization keeping only Noun, Adj, Verb, Adverb\n",
    "data_lemmatized = lemmatization(texts, allowed_postags=['NOUN', 'ADJ', 'VERB', 'ADV'])"
   ]
  },
  {
   "cell_type": "code",
   "execution_count": 8,
   "metadata": {},
   "outputs": [],
   "source": [
    "vectorizer = CountVectorizer(analyzer='word',       \n",
    "                             stop_words='english',             # remove stop words\n",
    "                             lowercase=True,                   # convert all words to lowercase\n",
    "                             token_pattern='[a-zA-Z0-9]{3,}',  # num chars > 3\n",
    "                             # max_features=50000,             # max number of uniq words\n",
    "                            )\n",
    "\n",
    "data_vectorized = vectorizer.fit_transform(data_lemmatized)\n",
    "\n",
    "tf_feature_names = vectorizer.get_feature_names()"
   ]
  },
  {
   "cell_type": "code",
   "execution_count": 9,
   "metadata": {},
   "outputs": [
    {
     "name": "stdout",
     "output_type": "stream",
     "text": [
      "Sparsicity:  17.672932330827066 %\n"
     ]
    }
   ],
   "source": [
    "# Materialize the sparse data\n",
    "data_dense = data_vectorized.todense()\n",
    "\n",
    "# Compute Sparsicity = Percentage of Non-Zero cells\n",
    "print(\"Sparsicity: \", ((data_dense > 0).sum()/data_dense.size)*100, \"%\")"
   ]
  },
  {
   "cell_type": "code",
   "execution_count": 10,
   "metadata": {},
   "outputs": [
    {
     "name": "stdout",
     "output_type": "stream",
     "text": [
      "LatentDirichletAllocation(batch_size=128, doc_topic_prior=None,\n",
      "             evaluate_every=-1, learning_decay=0.7,\n",
      "             learning_method='online', learning_offset=10.0,\n",
      "             max_doc_update_iter=100, max_iter=10, mean_change_tol=0.001,\n",
      "             n_components=2, n_jobs=-1, n_topics=None, perp_tol=0.1,\n",
      "             random_state=100, topic_word_prior=None,\n",
      "             total_samples=1000000.0, verbose=0)\n"
     ]
    }
   ],
   "source": [
    "# Build LDA Model\n",
    "lda_model = LatentDirichletAllocation(n_components=2,               # Number of topics\n",
    "                                      max_iter=10,               # Max learning iterations\n",
    "                                      learning_method='online',\n",
    "                                      learning_decay=0.7,\n",
    "                                      random_state=100,          # Random state\n",
    "                                      batch_size=128,            # n docs in each learning iter\n",
    "                                      evaluate_every = -1,       # compute perplexity every n iters, default: Don't\n",
    "                                      n_jobs = -1,               # Use all available CPUs\n",
    "                                     )\n",
    "lda_output = lda_model.fit_transform(data_vectorized)\n",
    "\n",
    "print(lda_model)  # Model attributes"
   ]
  },
  {
   "cell_type": "code",
   "execution_count": 11,
   "metadata": {},
   "outputs": [
    {
     "name": "stdout",
     "output_type": "stream",
     "text": [
      "Log Likelihood:  -58711.02542599627\n",
      "Perplexity:  2060.604240451044\n",
      "{'batch_size': 128,\n",
      " 'doc_topic_prior': None,\n",
      " 'evaluate_every': -1,\n",
      " 'learning_decay': 0.7,\n",
      " 'learning_method': 'online',\n",
      " 'learning_offset': 10.0,\n",
      " 'max_doc_update_iter': 100,\n",
      " 'max_iter': 10,\n",
      " 'mean_change_tol': 0.001,\n",
      " 'n_components': 2,\n",
      " 'n_jobs': -1,\n",
      " 'n_topics': None,\n",
      " 'perp_tol': 0.1,\n",
      " 'random_state': 100,\n",
      " 'topic_word_prior': None,\n",
      " 'total_samples': 1000000.0,\n",
      " 'verbose': 0}\n"
     ]
    }
   ],
   "source": [
    "# Log Likelyhood: Higher the better\n",
    "print(\"Log Likelihood: \", lda_model.score(data_vectorized))\n",
    "\n",
    "# Perplexity: Lower the better. Perplexity = exp(-1. * log-likelihood per word)\n",
    "print(\"Perplexity: \", lda_model.perplexity(data_vectorized))\n",
    "\n",
    "# See model parameters\n",
    "pprint(lda_model.get_params())"
   ]
  },
  {
   "cell_type": "code",
   "execution_count": 12,
   "metadata": {},
   "outputs": [
    {
     "name": "stderr",
     "output_type": "stream",
     "text": [
      "/home/mcy/anaconda3/lib/python3.7/site-packages/sklearn/model_selection/_split.py:2053: FutureWarning: You should specify a value for 'cv' instead of relying on the default value. The default value will change from 3 to 5 in version 0.22.\n",
      "  warnings.warn(CV_WARNING, FutureWarning)\n",
      "/home/mcy/anaconda3/lib/python3.7/site-packages/sklearn/model_selection/_search.py:841: DeprecationWarning: The default of the `iid` parameter will change from True to False in version 0.22 and will be removed in 0.24. This will change numeric results when test-set sizes are unequal.\n",
      "  DeprecationWarning)\n"
     ]
    },
    {
     "data": {
      "text/plain": [
       "GridSearchCV(cv='warn', error_score='raise-deprecating',\n",
       "       estimator=LatentDirichletAllocation(batch_size=128, doc_topic_prior=None,\n",
       "             evaluate_every=-1, learning_decay=0.7,\n",
       "             learning_method='batch', learning_offset=10.0,\n",
       "             max_doc_update_iter=100, max_iter=10, mean_change_tol=0.001,\n",
       "             n_components=10, n_jobs=None, n_topics=None, perp_tol=0.1,\n",
       "             random_state=None, topic_word_prior=None,\n",
       "             total_samples=1000000.0, verbose=0),\n",
       "       fit_params=None, iid='warn', n_jobs=None,\n",
       "       param_grid={'n_components': [2, 3], 'learning_decay': [0.5, 0.7, 0.9]},\n",
       "       pre_dispatch='2*n_jobs', refit=True, return_train_score='warn',\n",
       "       scoring=None, verbose=0)"
      ]
     },
     "execution_count": 12,
     "metadata": {},
     "output_type": "execute_result"
    }
   ],
   "source": [
    "# Define Search Param\n",
    "search_params = {'n_components': [2, 3], 'learning_decay': [.5, .7, .9]}\n",
    "\n",
    "# Init the Model\n",
    "lda = LatentDirichletAllocation()\n",
    "\n",
    "# Init Grid Search Class\n",
    "model = GridSearchCV(lda, param_grid=search_params)\n",
    "\n",
    "# Do the Grid Search\n",
    "model.fit(data_vectorized)"
   ]
  },
  {
   "cell_type": "code",
   "execution_count": 13,
   "metadata": {},
   "outputs": [
    {
     "name": "stdout",
     "output_type": "stream",
     "text": [
      "Best Model's Params:  {'learning_decay': 0.5, 'n_components': 2}\n",
      "Best Log Likelihood Score:  -21462.063450000198\n",
      "Model Perplexity:  2011.216380364515\n"
     ]
    }
   ],
   "source": [
    "# Best Model\n",
    "best_lda_model = model.best_estimator_\n",
    "\n",
    "# Model Parameters\n",
    "print(\"Best Model's Params: \", model.best_params_)\n",
    "\n",
    "# Log Likelihood Score\n",
    "print(\"Best Log Likelihood Score: \", model.best_score_)\n",
    "\n",
    "# Perplexity\n",
    "print(\"Model Perplexity: \", best_lda_model.perplexity(data_vectorized))\n"
   ]
  },
  {
   "cell_type": "code",
   "execution_count": 14,
   "metadata": {},
   "outputs": [
    {
     "data": {
      "image/png": "[encoded data removed]",
      "text/plain": [
       "<Figure size 864x576 with 1 Axes>"
      ]
     },
     "metadata": {
      "needs_background": "light"
     },
     "output_type": "display_data"
    }
   ],
   "source": [
    "# Get Log Likelyhoods from Grid Search Output\n",
    "n_topics = [2,3]\n",
    "log_likelyhoods_5 = model.cv_results_['mean_test_score'][:2].tolist()\n",
    "log_likelyhoods_7 = model.cv_results_['mean_test_score'][2:4].tolist()\n",
    "log_likelyhoods_9 = model.cv_results_['mean_test_score'][4:6].tolist()\n",
    "\n",
    "# Show graph\n",
    "plt.figure(figsize=(12, 8))\n",
    "plt.plot(n_topics, log_likelyhoods_5, label='0.5')\n",
    "plt.plot(n_topics, log_likelyhoods_7, label='0.7')\n",
    "plt.plot(n_topics, log_likelyhoods_9, label='0.9')\n",
    "plt.title(\"Choosing Optimal LDA Model\")\n",
    "plt.xlabel(\"Num Topics\")\n",
    "plt.ylabel(\"Log Likelyhood Scores\")\n",
    "plt.legend(title='Learning decay', loc='best')\n",
    "plt.show()"
   ]
  },
  {
   "cell_type": "code",
   "execution_count": 15,
   "metadata": {},
   "outputs": [
    {
     "name": "stdout",
     "output_type": "stream",
     "text": [
      "Topic 0:\n",
      "othello matter husband speak moor lie cassio ill desdemona night\n",
      "Topic 1:\n",
      "love cassio speak ill moor night honest hear soul desdemona\n"
     ]
    }
   ],
   "source": [
    "def display_topics(model, feature_names, no_top_words):\n",
    "    for topic_idx, topic in enumerate(model.components_):\n",
    "        print(\"Topic %d:\" % (topic_idx))\n",
    "        print(\" \".join([feature_names[i]\n",
    "                        for i in topic.argsort()[:-no_top_words - 1:-1]]))\n",
    "\n",
    "no_top_words = 10\n",
    "display_topics(lda_model, tf_feature_names, no_top_words)"
   ]
  },
  {
   "cell_type": "code",
   "execution_count": 16,
   "metadata": {},
   "outputs": [
    {
     "data": {
      "text/html": [
       "<style  type=\"text/css\" >\n",
       "    #T_dd5fcc48_97f8_11e9_ad3a_fb996a29440arow0_col0 {\n",
       "            color:  red;\n",
       "            font-weight:  700;\n",
       "        }    #T_dd5fcc48_97f8_11e9_ad3a_fb996a29440arow0_col1 {\n",
       "            color:  black;\n",
       "            font-weight:  400;\n",
       "        }    #T_dd5fcc48_97f8_11e9_ad3a_fb996a29440arow0_col2 {\n",
       "            color:  black;\n",
       "            font-weight:  400;\n",
       "        }    #T_dd5fcc48_97f8_11e9_ad3a_fb996a29440arow1_col0 {\n",
       "            color:  black;\n",
       "            font-weight:  400;\n",
       "        }    #T_dd5fcc48_97f8_11e9_ad3a_fb996a29440arow1_col1 {\n",
       "            color:  red;\n",
       "            font-weight:  700;\n",
       "        }    #T_dd5fcc48_97f8_11e9_ad3a_fb996a29440arow1_col2 {\n",
       "            color:  red;\n",
       "            font-weight:  700;\n",
       "        }    #T_dd5fcc48_97f8_11e9_ad3a_fb996a29440arow2_col0 {\n",
       "            color:  black;\n",
       "            font-weight:  400;\n",
       "        }    #T_dd5fcc48_97f8_11e9_ad3a_fb996a29440arow2_col1 {\n",
       "            color:  red;\n",
       "            font-weight:  700;\n",
       "        }    #T_dd5fcc48_97f8_11e9_ad3a_fb996a29440arow2_col2 {\n",
       "            color:  red;\n",
       "            font-weight:  700;\n",
       "        }    #T_dd5fcc48_97f8_11e9_ad3a_fb996a29440arow3_col0 {\n",
       "            color:  red;\n",
       "            font-weight:  700;\n",
       "        }    #T_dd5fcc48_97f8_11e9_ad3a_fb996a29440arow3_col1 {\n",
       "            color:  black;\n",
       "            font-weight:  400;\n",
       "        }    #T_dd5fcc48_97f8_11e9_ad3a_fb996a29440arow3_col2 {\n",
       "            color:  black;\n",
       "            font-weight:  400;\n",
       "        }    #T_dd5fcc48_97f8_11e9_ad3a_fb996a29440arow4_col0 {\n",
       "            color:  black;\n",
       "            font-weight:  400;\n",
       "        }    #T_dd5fcc48_97f8_11e9_ad3a_fb996a29440arow4_col1 {\n",
       "            color:  red;\n",
       "            font-weight:  700;\n",
       "        }    #T_dd5fcc48_97f8_11e9_ad3a_fb996a29440arow4_col2 {\n",
       "            color:  red;\n",
       "            font-weight:  700;\n",
       "        }    #T_dd5fcc48_97f8_11e9_ad3a_fb996a29440arow5_col0 {\n",
       "            color:  red;\n",
       "            font-weight:  700;\n",
       "        }    #T_dd5fcc48_97f8_11e9_ad3a_fb996a29440arow5_col1 {\n",
       "            color:  black;\n",
       "            font-weight:  400;\n",
       "        }    #T_dd5fcc48_97f8_11e9_ad3a_fb996a29440arow5_col2 {\n",
       "            color:  black;\n",
       "            font-weight:  400;\n",
       "        }    #T_dd5fcc48_97f8_11e9_ad3a_fb996a29440arow6_col0 {\n",
       "            color:  red;\n",
       "            font-weight:  700;\n",
       "        }    #T_dd5fcc48_97f8_11e9_ad3a_fb996a29440arow6_col1 {\n",
       "            color:  black;\n",
       "            font-weight:  400;\n",
       "        }    #T_dd5fcc48_97f8_11e9_ad3a_fb996a29440arow6_col2 {\n",
       "            color:  black;\n",
       "            font-weight:  400;\n",
       "        }    #T_dd5fcc48_97f8_11e9_ad3a_fb996a29440arow7_col0 {\n",
       "            color:  red;\n",
       "            font-weight:  700;\n",
       "        }    #T_dd5fcc48_97f8_11e9_ad3a_fb996a29440arow7_col1 {\n",
       "            color:  black;\n",
       "            font-weight:  400;\n",
       "        }    #T_dd5fcc48_97f8_11e9_ad3a_fb996a29440arow7_col2 {\n",
       "            color:  black;\n",
       "            font-weight:  400;\n",
       "        }    #T_dd5fcc48_97f8_11e9_ad3a_fb996a29440arow8_col0 {\n",
       "            color:  red;\n",
       "            font-weight:  700;\n",
       "        }    #T_dd5fcc48_97f8_11e9_ad3a_fb996a29440arow8_col1 {\n",
       "            color:  black;\n",
       "            font-weight:  400;\n",
       "        }    #T_dd5fcc48_97f8_11e9_ad3a_fb996a29440arow8_col2 {\n",
       "            color:  black;\n",
       "            font-weight:  400;\n",
       "        }    #T_dd5fcc48_97f8_11e9_ad3a_fb996a29440arow9_col0 {\n",
       "            color:  black;\n",
       "            font-weight:  400;\n",
       "        }    #T_dd5fcc48_97f8_11e9_ad3a_fb996a29440arow9_col1 {\n",
       "            color:  red;\n",
       "            font-weight:  700;\n",
       "        }    #T_dd5fcc48_97f8_11e9_ad3a_fb996a29440arow9_col2 {\n",
       "            color:  red;\n",
       "            font-weight:  700;\n",
       "        }</style>  \n",
       "<table id=\"T_dd5fcc48_97f8_11e9_ad3a_fb996a29440a\" > \n",
       "<thead>    <tr> \n",
       "        <th class=\"blank level0\" ></th> \n",
       "        <th class=\"col_heading level0 col0\" >Topic0</th> \n",
       "        <th class=\"col_heading level0 col1\" >Topic1</th> \n",
       "        <th class=\"col_heading level0 col2\" >dominant_topic</th> \n",
       "    </tr></thead> \n",
       "<tbody>    <tr> \n",
       "        <th id=\"T_dd5fcc48_97f8_11e9_ad3a_fb996a29440alevel0_row0\" class=\"row_heading level0 row0\" >BRABANTIO</th> \n",
       "        <td id=\"T_dd5fcc48_97f8_11e9_ad3a_fb996a29440arow0_col0\" class=\"data row0 col0\" >1</td> \n",
       "        <td id=\"T_dd5fcc48_97f8_11e9_ad3a_fb996a29440arow0_col1\" class=\"data row0 col1\" >0</td> \n",
       "        <td id=\"T_dd5fcc48_97f8_11e9_ad3a_fb996a29440arow0_col2\" class=\"data row0 col2\" >0</td> \n",
       "    </tr>    <tr> \n",
       "        <th id=\"T_dd5fcc48_97f8_11e9_ad3a_fb996a29440alevel0_row1\" class=\"row_heading level0 row1\" >CASSIO</th> \n",
       "        <td id=\"T_dd5fcc48_97f8_11e9_ad3a_fb996a29440arow1_col0\" class=\"data row1 col0\" >0</td> \n",
       "        <td id=\"T_dd5fcc48_97f8_11e9_ad3a_fb996a29440arow1_col1\" class=\"data row1 col1\" >1</td> \n",
       "        <td id=\"T_dd5fcc48_97f8_11e9_ad3a_fb996a29440arow1_col2\" class=\"data row1 col2\" >1</td> \n",
       "    </tr>    <tr> \n",
       "        <th id=\"T_dd5fcc48_97f8_11e9_ad3a_fb996a29440alevel0_row2\" class=\"row_heading level0 row2\" >DESDEMONA</th> \n",
       "        <td id=\"T_dd5fcc48_97f8_11e9_ad3a_fb996a29440arow2_col0\" class=\"data row2 col0\" >0</td> \n",
       "        <td id=\"T_dd5fcc48_97f8_11e9_ad3a_fb996a29440arow2_col1\" class=\"data row2 col1\" >1</td> \n",
       "        <td id=\"T_dd5fcc48_97f8_11e9_ad3a_fb996a29440arow2_col2\" class=\"data row2 col2\" >1</td> \n",
       "    </tr>    <tr> \n",
       "        <th id=\"T_dd5fcc48_97f8_11e9_ad3a_fb996a29440alevel0_row3\" class=\"row_heading level0 row3\" >DUKE OF VENICE</th> \n",
       "        <td id=\"T_dd5fcc48_97f8_11e9_ad3a_fb996a29440arow3_col0\" class=\"data row3 col0\" >1</td> \n",
       "        <td id=\"T_dd5fcc48_97f8_11e9_ad3a_fb996a29440arow3_col1\" class=\"data row3 col1\" >0</td> \n",
       "        <td id=\"T_dd5fcc48_97f8_11e9_ad3a_fb996a29440arow3_col2\" class=\"data row3 col2\" >0</td> \n",
       "    </tr>    <tr> \n",
       "        <th id=\"T_dd5fcc48_97f8_11e9_ad3a_fb996a29440alevel0_row4\" class=\"row_heading level0 row4\" >EMILIA</th> \n",
       "        <td id=\"T_dd5fcc48_97f8_11e9_ad3a_fb996a29440arow4_col0\" class=\"data row4 col0\" >0</td> \n",
       "        <td id=\"T_dd5fcc48_97f8_11e9_ad3a_fb996a29440arow4_col1\" class=\"data row4 col1\" >1</td> \n",
       "        <td id=\"T_dd5fcc48_97f8_11e9_ad3a_fb996a29440arow4_col2\" class=\"data row4 col2\" >1</td> \n",
       "    </tr>    <tr> \n",
       "        <th id=\"T_dd5fcc48_97f8_11e9_ad3a_fb996a29440alevel0_row5\" class=\"row_heading level0 row5\" >IAGO</th> \n",
       "        <td id=\"T_dd5fcc48_97f8_11e9_ad3a_fb996a29440arow5_col0\" class=\"data row5 col0\" >1</td> \n",
       "        <td id=\"T_dd5fcc48_97f8_11e9_ad3a_fb996a29440arow5_col1\" class=\"data row5 col1\" >0</td> \n",
       "        <td id=\"T_dd5fcc48_97f8_11e9_ad3a_fb996a29440arow5_col2\" class=\"data row5 col2\" >0</td> \n",
       "    </tr>    <tr> \n",
       "        <th id=\"T_dd5fcc48_97f8_11e9_ad3a_fb996a29440alevel0_row6\" class=\"row_heading level0 row6\" >LODOVICO</th> \n",
       "        <td id=\"T_dd5fcc48_97f8_11e9_ad3a_fb996a29440arow6_col0\" class=\"data row6 col0\" >1</td> \n",
       "        <td id=\"T_dd5fcc48_97f8_11e9_ad3a_fb996a29440arow6_col1\" class=\"data row6 col1\" >0</td> \n",
       "        <td id=\"T_dd5fcc48_97f8_11e9_ad3a_fb996a29440arow6_col2\" class=\"data row6 col2\" >0</td> \n",
       "    </tr>    <tr> \n",
       "        <th id=\"T_dd5fcc48_97f8_11e9_ad3a_fb996a29440alevel0_row7\" class=\"row_heading level0 row7\" >MONTANO</th> \n",
       "        <td id=\"T_dd5fcc48_97f8_11e9_ad3a_fb996a29440arow7_col0\" class=\"data row7 col0\" >1</td> \n",
       "        <td id=\"T_dd5fcc48_97f8_11e9_ad3a_fb996a29440arow7_col1\" class=\"data row7 col1\" >0</td> \n",
       "        <td id=\"T_dd5fcc48_97f8_11e9_ad3a_fb996a29440arow7_col2\" class=\"data row7 col2\" >0</td> \n",
       "    </tr>    <tr> \n",
       "        <th id=\"T_dd5fcc48_97f8_11e9_ad3a_fb996a29440alevel0_row8\" class=\"row_heading level0 row8\" >OTHELLO</th> \n",
       "        <td id=\"T_dd5fcc48_97f8_11e9_ad3a_fb996a29440arow8_col0\" class=\"data row8 col0\" >1</td> \n",
       "        <td id=\"T_dd5fcc48_97f8_11e9_ad3a_fb996a29440arow8_col1\" class=\"data row8 col1\" >0</td> \n",
       "        <td id=\"T_dd5fcc48_97f8_11e9_ad3a_fb996a29440arow8_col2\" class=\"data row8 col2\" >0</td> \n",
       "    </tr>    <tr> \n",
       "        <th id=\"T_dd5fcc48_97f8_11e9_ad3a_fb996a29440alevel0_row9\" class=\"row_heading level0 row9\" >RODERIGO</th> \n",
       "        <td id=\"T_dd5fcc48_97f8_11e9_ad3a_fb996a29440arow9_col0\" class=\"data row9 col0\" >0</td> \n",
       "        <td id=\"T_dd5fcc48_97f8_11e9_ad3a_fb996a29440arow9_col1\" class=\"data row9 col1\" >1</td> \n",
       "        <td id=\"T_dd5fcc48_97f8_11e9_ad3a_fb996a29440arow9_col2\" class=\"data row9 col2\" >1</td> \n",
       "    </tr></tbody> \n",
       "</table> "
      ],
      "text/plain": [
       "<pandas.io.formats.style.Styler at 0x7f86acf6da58>"
      ]
     },
     "execution_count": 16,
     "metadata": {},
     "output_type": "execute_result"
    }
   ],
   "source": [
    "# Create Document — Topic Matrix\n",
    "lda_output = best_lda_model.transform(data_vectorized)\n",
    "# column names\n",
    "topicnames = [\"Topic\" + str(i) for i in range(best_lda_model.n_components)]\n",
    "# index names\n",
    "docnames = doc_name\n",
    "# Make the pandas dataframe\n",
    "df_document_topic = pd.DataFrame(np.round(lda_output, 2), columns=topicnames, index=docnames)\n",
    "# Get dominant topic for each document\n",
    "dominant_topic = np.argmax(df_document_topic.values, axis=1)\n",
    "df_document_topic['dominant_topic'] = dominant_topic\n",
    "# Styling\n",
    "def color_green(val):\n",
    " color = 'red' if val > .1 else 'black'\n",
    " return 'color: {col}'.format(col=color)\n",
    "def make_bold(val):\n",
    " weight = 700 if val > .1 else 400\n",
    " return 'font-weight: {weight}'.format(weight=weight)\n",
    "# Apply Style\n",
    "df_document_topics = df_document_topic.sort_index(0).style.applymap(color_green).applymap(make_bold)\n",
    "df_document_topics"
   ]
  },
  {
   "cell_type": "code",
   "execution_count": null,
   "metadata": {},
   "outputs": [],
   "source": []
  }
 ],
 "metadata": {
  "kernelspec": {
   "display_name": "Python 3",
   "language": "python",
   "name": "python3"
  },
  "language_info": {
   "codemirror_mode": {
    "name": "ipython",
    "version": 3
   },
   "file_extension": ".py",
   "mimetype": "text/x-python",
   "name": "python",
   "nbconvert_exporter": "python",
   "pygments_lexer": "ipython3",
   "version": "3.7.1"
  }
 },
 "nbformat": 4,
 "nbformat_minor": 2
}
