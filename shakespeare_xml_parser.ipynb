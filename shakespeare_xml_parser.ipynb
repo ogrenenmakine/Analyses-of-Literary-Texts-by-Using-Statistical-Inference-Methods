{
 "cells": [
  {
   "cell_type": "markdown",
   "metadata": {},
   "source": [
    "### speeches by plays"
   ]
  },
  {
   "cell_type": "raw",
   "metadata": {},
   "source": [
    "from xml.dom import minidom\n",
    "import glob, os\n",
    "for file in glob.glob(\"data/*.xml\"):\n",
    "    print(file)\n",
    "    xmldoc = minidom.parse(file)\n",
    "    title = xmldoc.getElementsByTagName('TITLE')\n",
    "    title = \"data/\"+title[0].firstChild.nodeValue+\".txt\"\n",
    "    f= open(title,\"w+\")\n",
    "    itemlist = xmldoc.getElementsByTagName('LINE')\n",
    "    for item in itemlist:\n",
    "        try:\n",
    "            f.write(item.firstChild.nodeValue)\n",
    "            f.write(\"\\n\")\n",
    "        except:\n",
    "            if item.firstChild.nodeValue is None:\n",
    "                pass\n",
    "            else:\n",
    "                print(item.firstChild.nodeValue)\n",
    "    f.close()"
   ]
  },
  {
   "cell_type": "markdown",
   "metadata": {},
   "source": [
    "### speeched by each character"
   ]
  },
  {
   "cell_type": "raw",
   "metadata": {},
   "source": [
    "from xml.dom import minidom\n",
    "import glob, os\n",
    "for file in glob.glob(\"data/*.xml\"):\n",
    "    print(file)\n",
    "    xmldoc = minidom.parse(file)\n",
    "    title = xmldoc.getElementsByTagName('TITLE')\n",
    "    title = \"data/\"+title[0].firstChild.nodeValue\n",
    "    os.mkdir(title)\n",
    "    speeches = xmldoc.getElementsByTagName('SPEECH')\n",
    "    for speech in speeches:\n",
    "        speaker = speech.getElementsByTagName('SPEAKER')[0].firstChild.nodeValue\n",
    "        speaker_file = title + \"/\" + speaker + \".txt\"\n",
    "        for line in speech.getElementsByTagName('LINE'):\n",
    "            line = line.firstChild.nodeValue\n",
    "            f= open(speaker_file,\"a+\")\n",
    "            try:\n",
    "                f.write(line)\n",
    "                f.write(\"\\n\")\n",
    "            except:\n",
    "                if line is None:\n",
    "                    pass\n",
    "                else:\n",
    "                    print(line)\n",
    "            f.close()"
   ]
  },
  {
   "cell_type": "markdown",
   "metadata": {},
   "source": [
    "### Create a validation set"
   ]
  },
  {
   "cell_type": "raw",
   "metadata": {},
   "source": [
    "import glob, os\n",
    "import random\n",
    "for file in glob.glob(\"data/plays/*.txt\"):\n",
    "    f= open(file,\"r\")\n",
    "    contents = f.readlines()\n",
    "    f.close()\n",
    "    val = []\n",
    "    train = []\n",
    "    my_list = list(xrange(1,len(contents)))\n",
    "    random.shuffle(my_list)\n",
    "    my_list = my_list[:len(contents)/10]\n",
    "    for i in range(len(contents)):\n",
    "        if i in my_list:\n",
    "            val.append(contents[i])\n",
    "        else:\n",
    "            train.append(contents[i])\n",
    "    f = open(file, \"w\")\n",
    "    train = \" \".join(train)\n",
    "    f.write(train)\n",
    "    f.close()\n",
    "    break"
   ]
  },
  {
   "cell_type": "raw",
   "metadata": {},
   "source": [
    "f = open(\"data/plays/val.txt\", \"w\")\n",
    "val = \"\".join(train)\n",
    "f.write(val)\n",
    "f.close()"
   ]
  },
  {
   "cell_type": "code",
   "execution_count": null,
   "metadata": {},
   "outputs": [],
   "source": []
  }
 ],
 "metadata": {
  "kernelspec": {
   "display_name": "Python 2",
   "language": "python",
   "name": "python2"
  },
  "language_info": {
   "codemirror_mode": {
    "name": "ipython",
    "version": 2
   },
   "file_extension": ".py",
   "mimetype": "text/x-python",
   "name": "python",
   "nbconvert_exporter": "python",
   "pygments_lexer": "ipython2",
   "version": "2.7.15"
  }
 },
 "nbformat": 4,
 "nbformat_minor": 2
}
